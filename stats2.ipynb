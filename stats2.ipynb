{
 "cells": [
  {
   "cell_type": "code",
   "execution_count": 13,
   "id": "11c322f1-2d42-41fa-acc9-24da6ec0bb4f",
   "metadata": {},
   "outputs": [],
   "source": [
    "import numpy as np \n",
    "from scipy import stats"
   ]
  },
  {
   "cell_type": "markdown",
   "id": "2cc23761-3b24-473f-b8cf-fe9f115529ee",
   "metadata": {},
   "source": [
    "# Задача 1\n",
    "\n",
    "<h3> Из партии батареек с номинальным напряжением 12 В наугад выбрано семь штук. Согласно показаниям высокоточного вольтметра, фактически выдаваемое ими напряжение составило: 12,9; 11,6; 13,5; 13,9; 12,1; 11,9; 13,0 В соответственно. Можно ли считать, что среднее напряжение действительно равно 12 В?  </h3>\n",
    "<br>\n",
    "Таким образом гипотезы: <br>\n",
    "$ Hо: \\mu = \\mu_{\\text{0}}  $ <br>\n",
    "$ Ha:  \\mu \\neq \\mu_{\\text{0}} $ <br>\n",
    "<br>\n",
    "Используем одновыборочный критерий Стьюдента"
   ]
  },
  {
   "cell_type": "code",
   "execution_count": 15,
   "id": "4db7a59a-2e37-40f7-b84c-d7e3e024d02d",
   "metadata": {},
   "outputs": [],
   "source": [
    "sample = np.array([12.9, 11.6, 13.5, 13.9, 12.1, 11.9, 13.0])\n",
    "mu0 = 12"
   ]
  },
  {
   "cell_type": "code",
   "execution_count": 17,
   "id": "63b7b83a-a4d0-4043-a77b-60d12b00a349",
   "metadata": {
    "panel-layout": {
     "height": 0,
     "visible": true,
     "width": 100
    }
   },
   "outputs": [
    {
     "name": "stdout",
     "output_type": "stream",
     "text": [
      "Statistic:  2.1578017974978794 , p-value:  0.07430190210562304\n"
     ]
    }
   ],
   "source": [
    "df = len(sample)- 1\n",
    "student = stats.t(df)\n",
    "T = (df)**0.5*(sample.mean() - mu0)/sample.std()\n",
    "P = min(2*student.cdf(T), 2 - 2*student.cdf(T))\n",
    "print(\"Statistic: \",T,\", p-value: \",P)"
   ]
  },
  {
   "cell_type": "code",
   "execution_count": 19,
   "id": "33337a93-ba96-44e0-b5f1-a698cfade4d1",
   "metadata": {},
   "outputs": [
    {
     "name": "stdout",
     "output_type": "stream",
     "text": [
      "гипотеза принимается при уровне значимости - 0.05\n"
     ]
    }
   ],
   "source": [
    "alpha = 0.05\n",
    "if(P > alpha):\n",
    "    print(f'гипотеза принимается при уровне значимости - {alpha}')\n",
    "else: \n",
    "    print(f'гипотеза не принимается при уровне значимости - {alpha}')"
   ]
  },
  {
   "cell_type": "markdown",
   "id": "f5f8c158-cc05-4544-94ae-2171ded5e664",
   "metadata": {},
   "source": [
    "# Задача 2\n",
    "\n",
    "<h3> Есть два различных метода определения процентного содержания жира в мясе. Доля жира для 10 образцов мяса была определена каждым из двух методов. \n",
    "Позволяют ли полученные результаты сделать вывод о том, что один метод даёт в среднем более высокие показания, чем другой? </h3> \n",
    "\n",
    "<br>\n",
    "Таким образом гипотезы: <br>\n",
    " $ Hо: \\mu_{\\text{I}} = \\mu_{\\text{II}}  $ <br>\n",
    " $ Ha:  \\mu_{\\text{I}} \\neq \\mu_{\\text{II}} $ <br>\n",
    "<br>\n",
    "Используем критерий Стьюдента для парных выборок"
   ]
  },
  {
   "cell_type": "code",
   "execution_count": 22,
   "id": "3cb81ae6-f520-4c08-963c-a7ad03758870",
   "metadata": {},
   "outputs": [
    {
     "name": "stdout",
     "output_type": "stream",
     "text": [
      "[-0.4  0.4  0.6  0.8  0.3 -1.5 -0.1 -0.1 -0.3  0.3]\n"
     ]
    }
   ],
   "source": [
    "method_I = np.array([23.1, 23.2, 26.5, 26.6, 27.1, 48.3, 40.5, 25.0, 38.4, 23.5])\n",
    "method_II = np.array([22.7, 23.6, 27.1, 27.4, 27.4, 46.8, 40.4, 24.9, 38.1, 23.8])\n",
    "\n",
    "diffrence = method_II - method_I\n",
    "print(diffrence)\n",
    "\n",
    "mu0 = 0;"
   ]
  },
  {
   "cell_type": "code",
   "execution_count": 24,
   "id": "5dd1bc9b-676e-4f69-a396-1503d9b4c183",
   "metadata": {},
   "outputs": [
    {
     "name": "stdout",
     "output_type": "stream",
     "text": [
      "Statistic:  -1.4006904931299015e-15 , p-value:  0.9999999999999989\n",
      "разница между гипотезами статистически не значима, при уровне значимости - 0.05\n"
     ]
    }
   ],
   "source": [
    "df = len(sample)- 1\n",
    "\n",
    "student = stats.t(df)\n",
    "T = (df)**0.5*(diffrence.mean() - mu0)/diffrence.std()\n",
    "P = min(2*student.cdf(T), 2 - 2*student.cdf(T))\n",
    "print(\"Statistic: \",T,\", p-value: \",P)\n",
    "\n",
    "alpha = 0.05\n",
    "if(P > alpha):\n",
    "    print(f'разница между гипотезами статистически не значима, при уровне значимости - {alpha}')\n",
    "else: \n",
    "    print(f'один из методов даёт в среднем более высокие показания при уровне значимости - {alpha}')"
   ]
  },
  {
   "cell_type": "markdown",
   "id": "35504118-1ea2-46f9-839a-4d93612eb219",
   "metadata": {},
   "source": [
    "# Задача 3\n",
    "\n",
    "<h3> Для проверки гипотезы о том, что жители городов имеют в среднем более высокое систолическое артериальное давление, чем жители сельской местности, было проведено обследование 10 горожан и 9 жителей села примерно одного возраста. Получены следующие данные об уровне давления для горожан: 132, 111, 119, 138, 200, 131, 138, 170, 159, 140; для селян: 115, 190, 127, 155, 148, 121, 116, 121, 197. Можно ли считать верной выдвинутую гипотезу на уровне значимости 0,05? </h3>\n",
    "\n",
    "\n",
    "Предполагаем, что величины давлений в обоих случаях распределены нормально<br>\n",
    "<br>\n",
    " Гипотезы <br> \n",
    "\n",
    "* $ Ho :  \\mu_{\\text{city}} = \\mu_{\\text{village}} $\n",
    "* $ Ha :  \\mu_{\\text{city}} > \\mu_{\\text{village}} $"
   ]
  },
  {
   "cell_type": "code",
   "execution_count": 29,
   "id": "4a26d947-752f-482d-8adc-132ce854ad78",
   "metadata": {},
   "outputs": [
    {
     "name": "stdout",
     "output_type": "stream",
     "text": [
      "143.33333333333334\n",
      "143.8\n"
     ]
    }
   ],
   "source": [
    "city_pressure = np.array([132, 111, 119, 138, 200, 131, 138, 170, 159, 140])\n",
    "village_pressure = np.array([115, 190, 127, 155, 148, 121, 116, 121, 197])\n",
    "\n",
    "print(village_pressure.mean())\n",
    "print(city_pressure.mean())"
   ]
  },
  {
   "cell_type": "code",
   "execution_count": 31,
   "id": "ba626ba3-8f6d-4052-8dcb-b5e054e3c5e2",
   "metadata": {},
   "outputs": [
    {
     "name": "stdout",
     "output_type": "stream",
     "text": [
      "Statistic:  0.03681832098940068 , p-value:  0.48554266145506586\n",
      "разница давлений между городом и селом статистически не значимо\n"
     ]
    }
   ],
   "source": [
    "m = len(city_pressure)\n",
    "n = len(village_pressure)\n",
    "\n",
    "s2x = city_pressure.var()\n",
    "s2y = village_pressure.var()\n",
    "\n",
    "T = (city_pressure.mean() - village_pressure.mean())/(s2x/m + s2y/n)**0.5\n",
    "df = round((s2x/m + s2y/n)**2 / ( (s2x/m)**2/(m-1) + (s2y/n)**2/(n-1))) \n",
    "t3 = stats.t(df)\n",
    "P = 1 - t3.cdf(T)\n",
    "print(\"Statistic: \",T,\", p-value: \",P)\n",
    "\n",
    "alpha = 0.05\n",
    "if(P > alpha):\n",
    "    print('разница давлений между городом и селом статистически не значимо')\n",
    "else: \n",
    "    print('нулевая гипотеза отвергается')"
   ]
  },
  {
   "cell_type": "markdown",
   "id": "0c558002-ceaf-433d-9df5-4c0e2caa913f",
   "metadata": {},
   "source": [
    "# Задача 4\n",
    "\n",
    "<h4> Известно, что 52% новорождённых детей — мальчики, а 48% — девочки. В случайной выборке из 5 000 человек в возрасте от 30 до 60 лет мужчин оказалось 2 500. Можно ли на уровне значимости 0,05 считать, основываясь на этих данных, что смертность среди мужчин и женщин одинакова? </h4>\n",
    "<br>\n",
    "Под одинаковой смертностью будем понимать сохранение одинакого соотношения среди мужчин и женщин</br>\n",
    "Тогда можно сформулировать гипотезу только относительно мужчин, тк женщины тогда будут определены: </br>\n",
    "\n",
    "* $ Ho :  p = p_{\\text{0}} = 0.52 $ - вероятность встретить мужчину \n",
    "* $ Ha :  p \\neq p_{\\text{0}} $ <br>\n",
    "\n",
    "Для проверки используем Биноминальный критерий"
   ]
  },
  {
   "cell_type": "code",
   "execution_count": 33,
   "id": "ebdbaf82-061b-4e78-8bd9-c56579110825",
   "metadata": {},
   "outputs": [
    {
     "name": "stdout",
     "output_type": "stream",
     "text": [
      "Статистика: -2.830692585361489\n",
      "p-value: 0.004644733942292513\n",
      "p-value2: 0.004849502159545252\n"
     ]
    }
   ],
   "source": [
    "n = 5000\n",
    "m = 2500\n",
    "p0 = 0.52\n",
    "\n",
    "# Вычисляем статистику  как на лекции\n",
    "T4 = (m - n*p0) / (n * p0 * (1 - p0))**0.5\n",
    "print(f\"Статистика: {T4}\")\n",
    "norm_dist = stats.norm(0, 1) \n",
    "P = min(2*norm_dist.cdf(T4), 2 - 2*norm_dist.cdf(T4))\n",
    "print(f\"p-value: {P}\")\n",
    "\n",
    "# Вычисляем с использованием встроенного биномиального теста\n",
    "result = stats.binomtest(m, n, p0)\n",
    "statistic = result.statistic\n",
    "p_value = result.pvalue\n",
    "print(f\"p-value2: {p_value}\")\n"
   ]
  },
  {
   "cell_type": "markdown",
   "id": "b83be673-3c0c-427f-9bdd-01c43b234900",
   "metadata": {},
   "source": [
    "# Задача 5\n",
    "\n",
    "<h3>В первом эксперименте для сравнения двух средних X1=17, X2=16 применялся t-критерий Стьюдента, и эти различия оказались значимы (p = 0, 001).\n",
    "\n",
    "Во втором исследовании, также при помощи t - критерия, сравнивались два средних X1=17, X2=36, и эти различия не значимы при p = 0,8. В чем может быть причина таких результатов, при условии, что нулевая и альтернативная гипотезы в обоих случаях одинаковы? </h3>"
   ]
  },
  {
   "cell_type": "markdown",
   "id": "3bd9562c-b382-46d7-bc14-578bc0d1d68b",
   "metadata": {},
   "source": [
    "Посмотрим на формулу T-статистики\n",
    "$$\n",
    "t = \\frac{\\bar{X}_1 - \\bar{X}_2}{\\sqrt{ \\left( \\frac{s1^2}{n1} + \\frac{s2^2}{n2} \\right) }}\n",
    "$$\n",
    "будем считать, что количество экспериментов в первом и втором случае было одинаковым. </br>\n",
    "\n",
    "В первом эксперименте средние значения были X1 = 17 и X2 = 16, и разница была статистически значимой (р = 0,001). Это говорит о том, что была большая t-статистика, хоть небольшая разница в средних значениях. Значит дисперсия была относительно низкой.\n",
    "\n",
    "Во втором эксперименте, несмотря на большую разницу в средних значениях (X1 = 17 и X2 = 36), результат не был значимым (p = 0,8). Это означает, что дисперсия внутри групп была намного выше, что увеличивало стандартную ошибку и снижало t-статистику, делая большую разницу в средних значениях статистически незначимой. Что так же может говорить о возможном существовании выбросов."
   ]
  },
  {
   "cell_type": "code",
   "execution_count": null,
   "id": "6f7fb05d-3ff3-4a94-9fb0-916975ff5923",
   "metadata": {},
   "outputs": [],
   "source": []
  }
 ],
 "metadata": {
  "kernelspec": {
   "display_name": "Python [conda env:base] *",
   "language": "python",
   "name": "conda-base-py"
  },
  "language_info": {
   "codemirror_mode": {
    "name": "ipython",
    "version": 3
   },
   "file_extension": ".py",
   "mimetype": "text/x-python",
   "name": "python",
   "nbconvert_exporter": "python",
   "pygments_lexer": "ipython3",
   "version": "3.12.7"
  },
  "panel-cell-order": [
   "63b7b83a-a4d0-4043-a77b-60d12b00a349"
  ]
 },
 "nbformat": 4,
 "nbformat_minor": 5
}
